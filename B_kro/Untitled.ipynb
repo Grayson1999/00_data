{
 "cells": [
  {
   "cell_type": "code",
   "execution_count": 2,
   "id": "465e2cc0",
   "metadata": {},
   "outputs": [],
   "source": [
    "from transformers import BertTokenizer, BertForSequenceClassification\n",
    "import pandas as pd\n",
    "import torch\n",
    "from sklearn.model_selection import train_test_split\n",
    "from collections import OrderedDict\n",
    "import logging\n",
    "logging.basicConfig(level=logging.INFO, format='%(message)s')\n",
    "\n",
    "class Predict():\n",
    "    def __init__(self):\n",
    "        ## 读入数据\n",
    "        def read_data(file):\n",
    "            texts = []\n",
    "            labels = []\n",
    "            data = pd.read_excel(file, engine='openpyxl')\n",
    "            for row in data.itertuples():\n",
    "                label = getattr(row, 'label')\n",
    "                review = str(getattr(row, 'review'))[1:-1]\n",
    "                texts.append(review)\n",
    "                labels.append(label)\n",
    "            assert len(texts) == len(labels)\n",
    "            return texts, labels\n",
    "\n",
    "        texts, labels = read_data('shuffled_data.xlsx')\n",
    "\n",
    "        self.train_texts, self.val_texts, train_labels, val_labels = train_test_split(\n",
    "        texts, labels, test_size=0.2, random_state=43, stratify=labels)\n",
    "\n",
    "        # ### label和id进行映射\n",
    "        self.label2id = OrderedDict({item: idx for idx, item in enumerate(set(train_labels + val_labels))})\n",
    "        self.id2label = OrderedDict({v: k for k, v in self.label2id.items()})\n",
    "\n",
    "        self.device = torch.device('cuda:0') if torch.cuda.is_available() else torch.device('cpu')  # 使用cpu或者gpu\n",
    "        self.model = BertForSequenceClassification.from_pretrained(\"kykim/bert-kor-base\", num_labels=len(self.label2id))\n",
    "        self.model.to(self.device)\n",
    "        self.model.train()\n",
    "\n",
    "        self.tokenizer = BertTokenizer.from_pretrained(\"model_best\")\n",
    "        model = BertForSequenceClassification.from_pretrained(\n",
    "            \"model_best\", num_labels=len(self.label2id))\n",
    "        model.to(self.device) \n",
    "\n",
    "    def predict(self, text):\n",
    "            encoding = self.tokenizer(text,\n",
    "                                return_tensors=\"pt\",\n",
    "                                max_length=128,\n",
    "                                truncation=True,\n",
    "                                padding=True)\n",
    "            encoding = {k:v.to(self.device) for  k,v in encoding.items()}\n",
    "            outputs = self.model(**encoding)\n",
    "            #pred = id2label[torch.argmax(outputs[0], dim=-1).numpy()[0]]\n",
    "            pred = self.id2label[torch.argmax(outputs[0], dim=-1).cpu().detach().numpy()[0]]\n",
    "            return pred\n"
   ]
  },
  {
   "cell_type": "code",
   "execution_count": 8,
   "id": "be4b0554",
   "metadata": {},
   "outputs": [
    {
     "name": "stderr",
     "output_type": "stream",
     "text": [
      "Some weights of the model checkpoint at kykim/bert-kor-base were not used when initializing BertForSequenceClassification: ['cls.predictions.transform.dense.weight', 'cls.predictions.bias', 'cls.predictions.decoder.bias', 'cls.seq_relationship.weight', 'cls.predictions.transform.dense.bias', 'cls.predictions.transform.LayerNorm.bias', 'cls.predictions.decoder.weight', 'cls.predictions.transform.LayerNorm.weight', 'cls.seq_relationship.bias']\n",
      "- This IS expected if you are initializing BertForSequenceClassification from the checkpoint of a model trained on another task or with another architecture (e.g. initializing a BertForSequenceClassification model from a BertForPreTraining model).\n",
      "- This IS NOT expected if you are initializing BertForSequenceClassification from the checkpoint of a model that you expect to be exactly identical (initializing a BertForSequenceClassification model from a BertForSequenceClassification model).\n",
      "Some weights of BertForSequenceClassification were not initialized from the model checkpoint at kykim/bert-kor-base and are newly initialized: ['classifier.bias', 'classifier.weight']\n",
      "You should probably TRAIN this model on a down-stream task to be able to use it for predictions and inference.\n"
     ]
    }
   ],
   "source": [
    "p = Predict()"
   ]
  },
  {
   "cell_type": "code",
   "execution_count": 142,
   "id": "9db3909d",
   "metadata": {},
   "outputs": [
    {
     "name": "stdout",
     "output_type": "stream",
     "text": [
      "긍정\n"
     ]
    }
   ],
   "source": [
    "pred = p.predict(\"윤석열 개새끼\")\n",
    "if pred:\n",
    "    print(\"긍정\")\n",
    "else:\n",
    "    print(\"부정\")"
   ]
  },
  {
   "cell_type": "code",
   "execution_count": null,
   "id": "b2c57019",
   "metadata": {},
   "outputs": [],
   "source": []
  }
 ],
 "metadata": {
  "kernelspec": {
   "display_name": "Python 3 (ipykernel)",
   "language": "python",
   "name": "python3"
  },
  "language_info": {
   "codemirror_mode": {
    "name": "ipython",
    "version": 3
   },
   "file_extension": ".py",
   "mimetype": "text/x-python",
   "name": "python",
   "nbconvert_exporter": "python",
   "pygments_lexer": "ipython3",
   "version": "3.8.12"
  }
 },
 "nbformat": 4,
 "nbformat_minor": 5
}
